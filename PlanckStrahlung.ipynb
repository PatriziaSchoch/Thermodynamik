{
  "nbformat": 4,
  "nbformat_minor": 0,
  "metadata": {
    "colab": {
      "provenance": [],
      "toc_visible": true
    },
    "kernelspec": {
      "name": "python3",
      "display_name": "Python 3"
    },
    "language_info": {
      "name": "python"
    }
  },
  "cells": [
    {
      "cell_type": "markdown",
      "source": [
        "# Das Plancksche Strahlungsgesetz"
      ],
      "metadata": {
        "id": "OZNxfF7ZOsmC"
      }
    },
    {
      "cell_type": "markdown",
      "source": [
        "Durch das Plancksche Stahlungsgestz kann die Leistung der emittierten Schwarzkörperstrahlung in Abhängigkeit der Wellenlänge angegeben werden mit:\n",
        "\n",
        "$M(\\lambda, T) dAd\\lambda= \\frac{2\\pi h c^2}{\\lambda^5}\\frac{1}{e^{\\frac{hc}{\\lambda k T}}-1}dAd\\lambda $"
      ],
      "metadata": {
        "id": "ArAr0MyTGAev"
      }
    },
    {
      "cell_type": "markdown",
      "source": [
        "## Aufgabe zum Rayleigh-Jeans-Gesetz"
      ],
      "metadata": {
        "id": "goAF9gmuOQBQ"
      }
    },
    {
      "cell_type": "markdown",
      "source": [
        "Das Rayleigh-Jeans-Gesetz ist eine Näherung für große Wellenlängen $\\lambda\\gg \\frac{hc}{kT}$ und lautet:\n",
        "$ M(\\lambda)d\\lambda \\approx \\frac{2c\\pi}{\\lambda^4}kTd\\lambda$.\n",
        "\n",
        "### Aufgabe:\n",
        "\n",
        " Leite das Rayleigh-Jeans-Gesetz aus dem Planckschen Strahlungsgesetz her. Verwende dazu die Eponentralreihenentwicklung und vernachlässige alle Terme mit $x^2$ und größer.\n",
        "\n",
        "#### Tipp\n",
        " Die Exponentralreihe lautet:\n",
        "$ \\exp{x}=\\sum_{n=0}^\\infty\\frac{x^n}{n!} $"
      ],
      "metadata": {
        "id": "I6hEhFAwGPHv"
      }
    },
    {
      "cell_type": "markdown",
      "source": [
        "## Aufgabe zum Planckschen Strahlungsgesetz und Wienschen Verschiebungsgesetz"
      ],
      "metadata": {
        "id": "s9mDMD2EOaVD"
      }
    },
    {
      "cell_type": "markdown",
      "source": [
        "Im folgenden Python Code ist das Plancksche Strahlungsgesetz implementiert. Die Funktion ```plot_planck``` visualisiert das Strahlungsgesetz. Das Wiensche Verschiebungsgesetz gibt die Temperaturabhängigkeit der Wellenlänge der Maximalen Ausstrahlung wieder.\n",
        "\n",
        "### Aufgabe:\n",
        " Führe den Code aus. Der erste Plot zeigt Temperaturen die auf der Erde üblich sind. Der zweite Plot zeigt Temperaturen der Erde in relation zu Temperaturen der Sonne, hier ist das Wiensche Verschiebungsgesetzt deutlich zu erkennen. Die Oberflächentemperatur der Sonne beträgt ca. 6000°C. Bei welcher Wellenlänge liegt das Emissionsmaximum der Sonne? Bei welcher Wellenlänge das der Erde? Welchem Bereich kann man diese Wellenlängen zuordnen (UV, Sichtbar, IR...)?\n",
        "\n",
        "### Aufgabe:\n",
        " Im Code sind für die beiden Plots jeweils eine Zeile auskommentiert. Entfernte das Kommentarsymbol # und führe den Code erneut aus. Was stellt die neue Kurve im Plot dar?"
      ],
      "metadata": {
        "id": "PwxvoS4RHdkp"
      }
    },
    {
      "cell_type": "code",
      "execution_count": null,
      "metadata": {
        "id": "yIbWoDgJwnaC"
      },
      "outputs": [],
      "source": [
        "\n",
        "import numpy as np\n",
        "import matplotlib.pyplot as plt\n",
        "\n",
        "# plancksche Strahlungsgesetz\n",
        "def planck_strahlung(lam, T):\n",
        "    h = 6.626e-34 #Js\n",
        "    k = 1.38e-23 #J/K\n",
        "    c = 2.998e8 #m/s\n",
        "    T = T+273.15\n",
        "    M = 2*np.pi*h*c**2/(lam**5)*1/(np.exp(h*c/(lam*k*T))-1)\n",
        "    return M\n",
        "\n",
        "# Visualisierung\n",
        "def plot_planck(lam, temps, log=True):\n",
        "    for temp in temps:\n",
        "        plt.plot(lam, planck_strahlung(lam, temp), label=str(temp))\n",
        "        if log:\n",
        "            plt.yscale('log')\n",
        "            plt.xscale('log')\n",
        "            plt.ylim(ymin=1e3)\n",
        "    plt.xlabel('Wellenlänge')\n",
        "    plt.ylabel('Spektrale Ausstrahlung')\n",
        "    plt.legend()\n",
        "\n",
        "# Wiensche Verschiebungsgesetz\n",
        "def wien(T):\n",
        "    T = T+273.15\n",
        "    lam_max = 2897e-6/T\n",
        "    return lam_max\n",
        "\n",
        "# Plot 1\n",
        "earth_lam = np.linspace(0, 0.5e-4, 1000)\n",
        "earth_temps = np.linspace(0, 100, 11)\n",
        "plot_planck(earth_lam, earth_temps, log=False)\n",
        "#plt.plot(wien(earth_temps), planck_strahlung(wien(earth_temps), earth_temps))\n",
        "plt.show()\n",
        "\n",
        "# Plot 2\n",
        "lam = np.geomspace(1e-8, 1e-3, 100)\n",
        "temps = np.array([0, 100, 6000])\n",
        "plot_planck(lam, temps)\n",
        "#plt.plot(wien(temps), planck_strahlung(wien(temps), temps))\n",
        "plt.show()"
      ]
    },
    {
      "cell_type": "code",
      "source": [],
      "metadata": {
        "id": "DbeuvAIhHZeL"
      },
      "execution_count": null,
      "outputs": []
    }
  ]
}